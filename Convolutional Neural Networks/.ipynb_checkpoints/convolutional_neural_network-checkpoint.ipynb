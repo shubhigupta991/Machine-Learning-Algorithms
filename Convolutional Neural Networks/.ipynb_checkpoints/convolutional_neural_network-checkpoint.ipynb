{
 "cells": [
  {
   "cell_type": "markdown",
   "metadata": {
    "id": "3DR-eO17geWu"
   },
   "source": [
    "# Convolutional Neural Network\n",
    "\n",
    "This algorithm is based on enhancing the model's brain to identify pattern in images so that they can recognise them. This is done by adding a series of layer before adding the fully connected layer as in the ANN. The series of layers we include is :\n",
    "* Convolutional layer : This layer is formed by combination of Feature Maps created by applying Feature Detector(Filter or Kernel) on the input shape. This layer also include the refitifer function as activation.\n",
    "* Pooling Layer : This layer try to distortthe feature map which is helpful in preventing the model from overfitting as well as this layer make the model more powerful in identifying a variety of pictures of single class or object. This layer also decreases the size of feature map.\n",
    "* Flattening : This layer converts the 2D array to 1D array so that it can be passed easily to the future layers of model."
   ]
  },
  {
   "cell_type": "markdown",
   "metadata": {
    "id": "EMefrVPCg-60"
   },
   "source": [
    "### Importing the libraries"
   ]
  },
  {
   "cell_type": "code",
   "execution_count": 1,
   "metadata": {
    "id": "fVO56jyznYC3"
   },
   "outputs": [],
   "source": [
    "import tensorflow as tf\n",
    "from keras.preprocessing.image import ImageDataGenerator"
   ]
  },
  {
   "cell_type": "code",
   "execution_count": 2,
   "metadata": {
    "colab": {
     "base_uri": "https://localhost:8080/",
     "height": 35
    },
    "id": "r7YuU4T-3fRf",
    "outputId": "88b14ec7-d8af-43b3-b2cd-45a09e23ccf5"
   },
   "outputs": [
    {
     "data": {
      "application/vnd.google.colaboratory.intrinsic+json": {
       "type": "string"
      },
      "text/plain": [
       "'2.4.1'"
      ]
     },
     "execution_count": 2,
     "metadata": {
      "tags": []
     },
     "output_type": "execute_result"
    }
   ],
   "source": [
    "tf.__version__"
   ]
  },
  {
   "cell_type": "markdown",
   "metadata": {
    "id": "oxQxCBWyoGPE"
   },
   "source": [
    "## Part 1 - Data Preprocessing"
   ]
  },
  {
   "cell_type": "markdown",
   "metadata": {
    "id": "MvE-heJNo3GG"
   },
   "source": [
    "### Preprocessing the Training set"
   ]
  },
  {
   "cell_type": "code",
   "execution_count": 3,
   "metadata": {
    "colab": {
     "base_uri": "https://localhost:8080/"
    },
    "id": "mTanFAz40oux",
    "outputId": "4c0de58b-be60-4207-848e-3d6aa339409d"
   },
   "outputs": [
    {
     "name": "stdout",
     "output_type": "stream",
     "text": [
      "Found 8010 images belonging to 2 classes.\n"
     ]
    }
   ],
   "source": [
    "train_data_generator = ImageDataGenerator(rescale=1./255,\n",
    "                                shear_range=0.2,\n",
    "                                zoom_range=0.2,\n",
    "                                horizontal_flip=True)\n",
    "train_data = train_data_generator.flow_from_directory('dataset/training_set',\n",
    "                                                       target_size = (64, 64),\n",
    "                                                       batch_size = 32,\n",
    "                                                       class_mode = 'binary')"
   ]
  },
  {
   "cell_type": "markdown",
   "metadata": {
    "id": "mrCMmGw9pHys"
   },
   "source": [
    "### Preprocessing the Test set"
   ]
  },
  {
   "cell_type": "code",
   "execution_count": 4,
   "metadata": {
    "colab": {
     "base_uri": "https://localhost:8080/"
    },
    "id": "Gc8Gaz5y2Vcl",
    "outputId": "21420e5e-42cc-4ff8-e8a9-e5546ab6759a"
   },
   "outputs": [
    {
     "name": "stdout",
     "output_type": "stream",
     "text": [
      "Found 2000 images belonging to 2 classes.\n"
     ]
    }
   ],
   "source": [
    "test_datagen = ImageDataGenerator(rescale = 1./255)\n",
    "test_data = test_datagen.flow_from_directory('dataset/test_set',\n",
    "                                            target_size = (64, 64),\n",
    "                                            batch_size = 32,\n",
    "                                            class_mode = 'binary')"
   ]
  },
  {
   "cell_type": "markdown",
   "metadata": {
    "id": "af8O4l90gk7B"
   },
   "source": [
    "## Part 2 - Building the CNN"
   ]
  },
  {
   "cell_type": "markdown",
   "metadata": {
    "id": "ces1gXY2lmoX"
   },
   "source": [
    "### Initialising the CNN"
   ]
  },
  {
   "cell_type": "code",
   "execution_count": 5,
   "metadata": {
    "id": "vkZydboj3XIF"
   },
   "outputs": [],
   "source": [
    "cnn = tf.keras.models.Sequential()"
   ]
  },
  {
   "cell_type": "markdown",
   "metadata": {
    "id": "u5YJj_XMl5LF"
   },
   "source": [
    "### Step 1 - Convolution"
   ]
  },
  {
   "cell_type": "code",
   "execution_count": 6,
   "metadata": {
    "id": "5Wpzbj1Q7-Ve"
   },
   "outputs": [],
   "source": [
    "cnn.add(tf.keras.layers.Conv2D(filters=32,kernel_size=3,activation='relu',input_shape = (64,64,3)))"
   ]
  },
  {
   "cell_type": "markdown",
   "metadata": {
    "id": "tf87FpvxmNOJ"
   },
   "source": [
    "### Step 2 - Pooling"
   ]
  },
  {
   "cell_type": "code",
   "execution_count": 7,
   "metadata": {
    "id": "0yAhLtY08xf8"
   },
   "outputs": [],
   "source": [
    "cnn.add(tf.keras.layers.MaxPool2D(pool_size=(2,2),strides=2))"
   ]
  },
  {
   "cell_type": "markdown",
   "metadata": {
    "id": "xaTOgD8rm4mU"
   },
   "source": [
    "### Adding a second convolutional layer"
   ]
  },
  {
   "cell_type": "code",
   "execution_count": 8,
   "metadata": {
    "id": "jTgWKGlC9Swp"
   },
   "outputs": [],
   "source": [
    "cnn.add(tf.keras.layers.Conv2D(filters=32,kernel_size=3,activation='relu'))\n",
    "cnn.add(tf.keras.layers.MaxPool2D(pool_size=(2,2),strides=2))"
   ]
  },
  {
   "cell_type": "markdown",
   "metadata": {
    "id": "tmiEuvTunKfk"
   },
   "source": [
    "### Step 3 - Flattening"
   ]
  },
  {
   "cell_type": "code",
   "execution_count": 9,
   "metadata": {
    "id": "EFmHXLF-9lU4"
   },
   "outputs": [],
   "source": [
    "cnn.add(tf.keras.layers.Flatten())"
   ]
  },
  {
   "cell_type": "markdown",
   "metadata": {
    "id": "dAoSECOm203v"
   },
   "source": [
    "### Step 4 - Full Connection"
   ]
  },
  {
   "cell_type": "code",
   "execution_count": 10,
   "metadata": {
    "id": "VkG18Eb-9t3i"
   },
   "outputs": [],
   "source": [
    "cnn.add(tf.keras.layers.Dense(units=128, activation='relu'))"
   ]
  },
  {
   "cell_type": "markdown",
   "metadata": {
    "id": "yTldFvbX28Na"
   },
   "source": [
    "### Step 5 - Output Layer"
   ]
  },
  {
   "cell_type": "code",
   "execution_count": 11,
   "metadata": {
    "id": "YHQpR9I1-Ndd"
   },
   "outputs": [],
   "source": [
    "cnn.add(tf.keras.layers.Dense(units=1,activation='sigmoid'))"
   ]
  },
  {
   "cell_type": "markdown",
   "metadata": {
    "id": "D6XkI90snSDl"
   },
   "source": [
    "## Part 3 - Training the CNN"
   ]
  },
  {
   "cell_type": "markdown",
   "metadata": {
    "id": "vfrFQACEnc6i"
   },
   "source": [
    "### Compiling the CNN"
   ]
  },
  {
   "cell_type": "code",
   "execution_count": 12,
   "metadata": {
    "id": "yTaKKfYNUkxt"
   },
   "outputs": [],
   "source": [
    "cnn.compile(optimizer = 'adam', loss = 'binary_crossentropy', metrics = ['accuracy'])"
   ]
  },
  {
   "cell_type": "markdown",
   "metadata": {
    "id": "ehS-v3MIpX2h"
   },
   "source": [
    "### Training the CNN on the Training set and evaluating it on the Test set"
   ]
  },
  {
   "cell_type": "code",
   "execution_count": 13,
   "metadata": {
    "colab": {
     "base_uri": "https://localhost:8080/"
    },
    "id": "KJpuFbyjaf8C",
    "outputId": "cf2071ed-afe0-4c99-b2db-e88e114a2b30"
   },
   "outputs": [
    {
     "name": "stdout",
     "output_type": "stream",
     "text": [
      "Epoch 1/30\n",
      "251/251 [==============================] - 3145s 13s/step - loss: 0.6747 - accuracy: 0.5844 - val_loss: 0.5957 - val_accuracy: 0.7020\n",
      "Epoch 2/30\n",
      "251/251 [==============================] - 79s 315ms/step - loss: 0.5976 - accuracy: 0.6913 - val_loss: 0.5376 - val_accuracy: 0.7320\n",
      "Epoch 3/30\n",
      "251/251 [==============================] - 79s 315ms/step - loss: 0.5530 - accuracy: 0.7180 - val_loss: 0.5506 - val_accuracy: 0.7105\n",
      "Epoch 4/30\n",
      "251/251 [==============================] - 78s 312ms/step - loss: 0.5192 - accuracy: 0.7435 - val_loss: 0.4812 - val_accuracy: 0.7665\n",
      "Epoch 5/30\n",
      "251/251 [==============================] - 79s 314ms/step - loss: 0.4881 - accuracy: 0.7627 - val_loss: 0.4780 - val_accuracy: 0.7690\n",
      "Epoch 6/30\n",
      "251/251 [==============================] - 79s 313ms/step - loss: 0.4881 - accuracy: 0.7576 - val_loss: 0.5400 - val_accuracy: 0.7325\n",
      "Epoch 7/30\n",
      "251/251 [==============================] - 79s 314ms/step - loss: 0.4600 - accuracy: 0.7766 - val_loss: 0.5249 - val_accuracy: 0.7425\n",
      "Epoch 8/30\n",
      "251/251 [==============================] - 79s 313ms/step - loss: 0.4500 - accuracy: 0.7811 - val_loss: 0.4715 - val_accuracy: 0.7905\n",
      "Epoch 9/30\n",
      "251/251 [==============================] - 79s 314ms/step - loss: 0.4269 - accuracy: 0.8028 - val_loss: 0.5028 - val_accuracy: 0.7820\n",
      "Epoch 10/30\n",
      "251/251 [==============================] - 79s 313ms/step - loss: 0.4200 - accuracy: 0.8027 - val_loss: 0.5501 - val_accuracy: 0.7345\n",
      "Epoch 11/30\n",
      "251/251 [==============================] - 79s 313ms/step - loss: 0.4116 - accuracy: 0.8073 - val_loss: 0.4933 - val_accuracy: 0.7805\n",
      "Epoch 12/30\n",
      "251/251 [==============================] - 79s 314ms/step - loss: 0.3771 - accuracy: 0.8311 - val_loss: 0.4585 - val_accuracy: 0.7905\n",
      "Epoch 13/30\n",
      "251/251 [==============================] - 79s 313ms/step - loss: 0.3729 - accuracy: 0.8377 - val_loss: 0.4685 - val_accuracy: 0.7950\n",
      "Epoch 14/30\n",
      "251/251 [==============================] - 78s 312ms/step - loss: 0.3591 - accuracy: 0.8353 - val_loss: 0.4543 - val_accuracy: 0.8060\n",
      "Epoch 15/30\n",
      "251/251 [==============================] - 77s 308ms/step - loss: 0.3445 - accuracy: 0.8474 - val_loss: 0.4495 - val_accuracy: 0.8020\n",
      "Epoch 16/30\n",
      "251/251 [==============================] - 78s 309ms/step - loss: 0.3261 - accuracy: 0.8555 - val_loss: 0.4729 - val_accuracy: 0.8015\n",
      "Epoch 17/30\n",
      "251/251 [==============================] - 77s 308ms/step - loss: 0.3115 - accuracy: 0.8597 - val_loss: 0.4584 - val_accuracy: 0.8015\n",
      "Epoch 18/30\n",
      "251/251 [==============================] - 78s 309ms/step - loss: 0.2958 - accuracy: 0.8732 - val_loss: 0.4650 - val_accuracy: 0.7995\n",
      "Epoch 19/30\n",
      "251/251 [==============================] - 77s 308ms/step - loss: 0.2879 - accuracy: 0.8774 - val_loss: 0.5072 - val_accuracy: 0.7875\n",
      "Epoch 20/30\n",
      "251/251 [==============================] - 78s 309ms/step - loss: 0.2723 - accuracy: 0.8871 - val_loss: 0.5026 - val_accuracy: 0.7980\n",
      "Epoch 21/30\n",
      "251/251 [==============================] - 78s 310ms/step - loss: 0.2577 - accuracy: 0.8923 - val_loss: 0.4784 - val_accuracy: 0.8125\n",
      "Epoch 22/30\n",
      "251/251 [==============================] - 78s 310ms/step - loss: 0.2621 - accuracy: 0.8832 - val_loss: 0.5232 - val_accuracy: 0.8170\n",
      "Epoch 23/30\n",
      "251/251 [==============================] - 78s 311ms/step - loss: 0.2521 - accuracy: 0.8929 - val_loss: 0.5286 - val_accuracy: 0.7965\n",
      "Epoch 24/30\n",
      "251/251 [==============================] - 78s 310ms/step - loss: 0.2243 - accuracy: 0.9064 - val_loss: 0.5318 - val_accuracy: 0.8000\n",
      "Epoch 25/30\n",
      "251/251 [==============================] - 78s 310ms/step - loss: 0.2118 - accuracy: 0.9140 - val_loss: 0.5494 - val_accuracy: 0.8090\n",
      "Epoch 26/30\n",
      "251/251 [==============================] - 78s 310ms/step - loss: 0.1964 - accuracy: 0.9178 - val_loss: 0.5201 - val_accuracy: 0.8135\n",
      "Epoch 27/30\n",
      "251/251 [==============================] - 78s 310ms/step - loss: 0.1932 - accuracy: 0.9203 - val_loss: 0.5718 - val_accuracy: 0.7815\n",
      "Epoch 28/30\n",
      "251/251 [==============================] - 78s 312ms/step - loss: 0.1863 - accuracy: 0.9246 - val_loss: 0.5906 - val_accuracy: 0.8180\n",
      "Epoch 29/30\n",
      "251/251 [==============================] - 78s 310ms/step - loss: 0.1720 - accuracy: 0.9340 - val_loss: 0.5699 - val_accuracy: 0.8030\n",
      "Epoch 30/30\n",
      "251/251 [==============================] - 78s 309ms/step - loss: 0.1624 - accuracy: 0.9357 - val_loss: 0.5856 - val_accuracy: 0.8080\n"
     ]
    },
    {
     "data": {
      "text/plain": [
       "<tensorflow.python.keras.callbacks.History at 0x7fde2d327cd0>"
      ]
     },
     "execution_count": 13,
     "metadata": {
      "tags": []
     },
     "output_type": "execute_result"
    }
   ],
   "source": [
    "cnn.fit(x = train_data, validation_data = test_data, epochs = 30)"
   ]
  },
  {
   "cell_type": "markdown",
   "metadata": {
    "id": "U3PZasO0006Z"
   },
   "source": [
    "## Part 4 - Making a single prediction"
   ]
  },
  {
   "cell_type": "code",
   "execution_count": 14,
   "metadata": {
    "id": "A_L1t5vbascL"
   },
   "outputs": [],
   "source": [
    "import numpy as np\n",
    "from keras.preprocessing import image\n",
    "test_image = image.load_img('dataset/single_prediction/cat_or_dog_1.jpg', target_size = (64, 64))\n",
    "test_image = image.img_to_array(test_image)\n",
    "test_image = np.expand_dims(test_image, axis = 0)\n",
    "result = cnn.predict(test_image)\n",
    "train_data.class_indices\n",
    "if result[0][0] == 1:\n",
    "  prediction = 'dog'\n",
    "else:\n",
    "  prediction = 'cat'"
   ]
  },
  {
   "cell_type": "code",
   "execution_count": 15,
   "metadata": {
    "colab": {
     "base_uri": "https://localhost:8080/"
    },
    "id": "VsxnpnW2HK9-",
    "outputId": "ff8f880e-ac12-4e0e-f0c8-73bd870af06e"
   },
   "outputs": [
    {
     "name": "stdout",
     "output_type": "stream",
     "text": [
      "dog\n"
     ]
    }
   ],
   "source": [
    "print(prediction)"
   ]
  }
 ],
 "metadata": {
  "colab": {
   "collapsed_sections": [],
   "name": "convolutional_neural_network.ipynb",
   "provenance": [],
   "toc_visible": true
  },
  "kernelspec": {
   "display_name": "Python 3",
   "language": "python",
   "name": "python3"
  },
  "language_info": {
   "codemirror_mode": {
    "name": "ipython",
    "version": 3
   },
   "file_extension": ".py",
   "mimetype": "text/x-python",
   "name": "python",
   "nbconvert_exporter": "python",
   "pygments_lexer": "ipython3",
   "version": "3.8.3"
  }
 },
 "nbformat": 4,
 "nbformat_minor": 1
}
